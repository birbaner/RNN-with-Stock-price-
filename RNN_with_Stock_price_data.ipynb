{
  "cells": [
    {
      "cell_type": "markdown",
      "metadata": {
        "id": "wmdZRaXJi3Cz"
      },
      "source": [
        "\n",
        "\n",
        "*   Load and preprocess stock price data over time;\n",
        "*   Create sequences from the stock price data using sliding window method;\n",
        "*   Split the sequences into training and test sets;\n",
        "*   Define an LSTM model;\n",
        "*   Train the LSTM model ;\n",
        "*   Evaluate the model on both train and test datasets;\n",
        "*   Visualize the prediction results against the actual stock prices for the test set.\n",
        "\n",
        "The primary goal of this assignment is to deepen your understanding of LSTM and familiarize you with key Python libraries such as Numpy, Matplotlib, and LSTM. Additionally, you will become more acquainted with implementing LSTM model, specifically for the task of temporal sequential data prediction.\n",
        "\n",
        "**Reference:**\n",
        "\n",
        "- Implementation of multi-layer LSTM with PyTorch:\n",
        "https://pytorch.org/docs/stable/generated/torch.nn.LSTM.html#torch.nn.LSTM\n",
        "- Apply <code>yfinance</code> python library developed by Ran Aroussi for accessing the financial data available on Yahoo Finance.\n",
        "\n"
      ]
    },
    {
      "cell_type": "markdown",
      "source": [
        "### <font color = 'blue'> **1.**  Load stock pricing data</font>\n",
        "\n",
        "Practice to use open source library 'yfinance' to download sequential finance data from the Yahoo Finance.\n",
        "\n",
        "<b>Answer</b>"
      ],
      "metadata": {
        "id": "TJIdAFVLaEYA"
      }
    },
    {
      "cell_type": "code",
      "source": [
        "import torch\n",
        "import torch.nn as nn\n",
        "import numpy as np\n",
        "import pandas as pd\n",
        "import yfinance as yf\n",
        "from sklearn.preprocessing import MinMaxScaler\n",
        "from sklearn.metrics import mean_squared_error\n",
        "from torch.autograd import Variable\n",
        "import matplotlib.pyplot as plt\n",
        "import matplotlib.dates as mdates\n",
        "from sklearn.model_selection import train_test_split\n",
        "\n",
        "# Load stock data of AMAZON  from 2018-01-01 to 2023-01-01\n",
        "ticker = 'AMZN'\n",
        "data = yf.download(ticker, start='2018-01-01', end='2023-01-01')\n",
        "dates = data.index # dates\n",
        "# Select the 'Close' column for prediction\n",
        "data = data[['Close']].values\n",
        "\n",
        "# Normalize the data to [-1,1] usng the MinMaxScaler\n",
        "## your code goes here\n",
        "\n",
        "\n",
        "\n",
        "# visualize the normalied stock price time series with labels for both axes (xlabel: dates; ylabel: stock price)\n",
        "## your code goes here\n",
        "\n",
        "\n",
        "\n",
        "# Convert normalized data to sequences\n",
        "## apply sliding window to sample sequences of fixed size as input data X;  the stock price next time step as the output Y.\n",
        "def create_sequences(data, seq_length):\n",
        "    xs, ys = [], []\n",
        "    for i in range(len(data) - seq_length-1):\n",
        "        x = data[i:(i + seq_length)]\n",
        "        y = data[i + seq_length]\n",
        "        xs.append(x)\n",
        "        ys.append(y)\n",
        "    return np.array(xs), np.array(ys)\n",
        "\n",
        "seq_length = 5  # Number of days to look back for prediction\n",
        "\n",
        "# apply the create_sequences() to create sequences (x1) and the corresponding outputs (y1) based on the normalized data\n",
        "x1, y1  = ____________________\n",
        "\n",
        "## convert x1, y1 into float tensors using torch.FLoatTensor()\n",
        "x = ______\n",
        "y = ______\n",
        "\n",
        "# Split data into training and testing sets\n",
        "train_size = int(len(y) * 0.70)\n",
        "x_train = x[:_______]\n",
        "y_train = y[:_______]\n",
        "x_test = x[______:]\n",
        "y_test = y[______:]\n",
        "\n",
        "# print traning data size and test data size\n",
        "\n",
        "\n"
      ],
      "metadata": {
        "id": "u90GMB11IAOu"
      },
      "execution_count": null,
      "outputs": []
    },
    {
      "cell_type": "markdown",
      "metadata": {
        "outputId": "2556ea3d-50f4-4bab-eaa3-84807469e689",
        "id": "ZWCsr85m365C"
      },
      "source": [
        "### <font color = 'blue'> **2.** Define and train a LSTM model for stock price prediction.</font>\n",
        "\n",
        "<b>Answer</b>"
      ]
    },
    {
      "cell_type": "code",
      "execution_count": null,
      "metadata": {
        "id": "ZoWC41s-iwbv"
      },
      "outputs": [],
      "source": [
        "# your code goes here\n",
        "\n",
        "import torch\n",
        "import torch.nn as nn\n",
        "import numpy as np\n",
        "import pandas as pd\n",
        "import yfinance as yf   # download data\n",
        "from sklearn.preprocessing import MinMaxScaler\n",
        "from sklearn.metrics import mean_squared_error\n",
        "from torch.autograd import Variable\n",
        "import matplotlib.pyplot as plt\n",
        "import matplotlib.dates as mdates\n",
        "\n",
        "# Define the LSTM model\n",
        "class LSTMModel(nn.Module):\n",
        "    def __init__(self, input_size=1, hidden_size=50, num_layers=2, output_size=1):\n",
        "        super(LSTMModel, self).__init__()\n",
        "        self.hidden_size = hidden_size\n",
        "        self.num_layers = num_layers\n",
        "        self.lstm = nn.LSTM(input_size, hidden_size, num_layers, batch_first=True)\n",
        "        self.fc = nn.Linear(hidden_size, output_size)\n",
        "\n",
        "    def forward(self, x):\n",
        "        h0 = torch.zeros(self.num_layers, x.size(0), self.hidden_size)\n",
        "        c0 = torch.zeros(self.num_layers, x.size(0), self.hidden_size)\n",
        "        out, _ = self.lstm(x, (h0, c0))\n",
        "        out = self.fc(out[:, -1, :])\n",
        "        return out\n",
        "\n",
        "# Instantiate the model with given parameters\n",
        "model = _______(input_size=1, hidden_size=50, num_layers=2, output_size=1)\n",
        "\n",
        "# Define loss function as the MSE and adopt the Adam optimizer\n",
        "criterion = nn.______()\n",
        "optimizer = torch.optim.____(model._____, lr=0.001)\n",
        "\n",
        "# Training the model\n",
        "num_epochs = 100\n",
        "loss_list = []\n",
        "for epoch in range(num_epochs):\n",
        "    model.train()\n",
        "    optimizer.zero_grad()\n",
        "    output = model(_____)\n",
        "    loss = criterion(____, _____)\n",
        "    loss.backward()\n",
        "    optimizer.step()\n",
        "    print(f'Epoch {epoch+1}/{num_epochs}, Loss: {loss.item()}')\n",
        "    loss_list.append(loss.item())\n",
        "\n",
        "# visualize training loss over epochs\n",
        "plt.figure()\n",
        "plt.plot(____)\n",
        "plt.xlabel('epoch')\n",
        "plt.ylabel('MSE loss')\n"
      ]
    },
    {
      "cell_type": "markdown",
      "source": [
        "### <font color = 'blue'> **3.** Evaluate the model\n",
        "\n",
        "<b>Answer</b>"
      ],
      "metadata": {
        "id": "ungTscFwz9gn"
      }
    },
    {
      "cell_type": "code",
      "source": [
        "# Evaluate the model\n",
        "model.___()\n",
        "train_predictions = model(_____)\n",
        "train_loss = _______________________\n",
        "test_predictions = model(______)\n",
        "test_loss = ________________________\n",
        "print(f'Train Loss: {train_loss}, Test Loss: {test_loss}')\n",
        "\n",
        "# Inverse the scaled data back to original scale using scaler.inverse_transform\n",
        "train_predictions = scaler.inverse_transform(______.detach().numpy())\n",
        "y_train = scaler.inverse_transform(________.detach().numpy())\n",
        "test_predictions = scaler.inverse_transform(________.detach().numpy())\n",
        "y_test = scaler.inverse_transform(________.detach().numpy())\n",
        "\n",
        "# Calculate RMSE for the trainining and testing processes based on the predictions and actual outputs\n",
        "from sklearn.metrics import mean_squared_error as mse\n",
        "\n",
        "train_rmse = ______________________\n",
        "test_rmse = _______________________\n",
        "\n",
        "print(f'Train RMSE: {___}, Test RMSE: {______}')"
      ],
      "metadata": {
        "id": "2SQ6rygrOOg3"
      },
      "execution_count": null,
      "outputs": []
    },
    {
      "cell_type": "markdown",
      "source": [
        "### <font color = 'blue'> **4.** Plot the predicted stock prices against the actual prices for test set\n",
        "\n",
        "<b>Answer</b>"
      ],
      "metadata": {
        "id": "sqbhrn-lOcOt"
      }
    },
    {
      "cell_type": "code",
      "execution_count": null,
      "metadata": {
        "id": "kGaInazukQRP"
      },
      "outputs": [],
      "source": [
        "train_dates = dates[:train_size]\n",
        "test_dates = dates[train_size+seq_length+1:]  # We add seq_length+1 because of how we created sequences\n",
        "\n",
        "# Plot the results with the dates\n",
        "plt.figure(figsize=(10,4), dpi = 100)\n",
        "plt.gca().xaxis.set_major_formatter(mdates.DateFormatter('%Y-%m-%d'))\n",
        "plt.gca().xaxis.set_major_locator(mdates.MonthLocator())\n",
        "\n",
        "# Overlay the testing part of the curve with predictions\n",
        "plt.plot(test_dates, ___, label='Predicted', color='')\n",
        "plt.plot(test_dates, ___, label='Actual', color='')\n",
        "\n",
        "plt.legend()\n",
        "plt.grid()\n",
        "plt.title('Stock Price Prediction with RNN')\n",
        "plt.xlabel('Date', size = 13)\n",
        "plt.ylabel('Stock Price', size = 13)\n",
        "plt.xticks(rotation=90)\n",
        "plt.tight_layout()\n",
        "plt.show()"
      ]
    }
  ],
  "metadata": {
    "colab": {
      "provenance": [],
      "gpuType": "T4"
    },
    "kernelspec": {
      "display_name": "Python 3",
      "name": "python3"
    },
    "language_info": {
      "codemirror_mode": {
        "name": "ipython",
        "version": 3
      },
      "file_extension": ".py",
      "mimetype": "text/x-python",
      "name": "python",
      "nbconvert_exporter": "python",
      "pygments_lexer": "ipython3",
      "version": "3.8.8"
    },
    "accelerator": "GPU"
  },
  "nbformat": 4,
  "nbformat_minor": 0
}